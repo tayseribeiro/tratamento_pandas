{
  "nbformat": 4,
  "nbformat_minor": 0,
  "metadata": {
    "colab": {
      "name": "Tratamento de dados.ipynb",
      "provenance": [],
      "mount_file_id": "12c-z4nZDI-9_m-YByf7ucIbZCMjcWgIt",
      "authorship_tag": "ABX9TyMglnFScMJvwec7oCnQakqC",
      "include_colab_link": true
    },
    "kernelspec": {
      "name": "python3",
      "display_name": "Python 3"
    },
    "language_info": {
      "name": "python"
    }
  },
  "cells": [
    {
      "cell_type": "markdown",
      "metadata": {
        "id": "view-in-github",
        "colab_type": "text"
      },
      "source": [
        "<a href=\"https://colab.research.google.com/github/tayseribeiro/tratamento_pandas/blob/main/Tratamento_de_dados.ipynb\" target=\"_parent\"><img src=\"https://colab.research.google.com/assets/colab-badge.svg\" alt=\"Open In Colab\"/></a>"
      ]
    },
    {
      "cell_type": "markdown",
      "metadata": {
        "id": "cscXp6F6fdwZ"
      },
      "source": [
        "# Tratamento de dados para construção de relatórios/dashboards\n",
        "\n",
        "### Objetivo:\n",
        "\n",
        "Apresentar as principais técnicas de tratamento aplicado a dados.\n",
        "\n",
        "\n",
        "\n",
        "Base de Dados: https://drive.google.com/drive/folders/1cYsSZBY1wF1iV3FYdUUMXWhvgpVXEFI8 <br>\n",
        "Link Original do Kaggle: https://www.kaggle.com/apoorvaappz/global-super-store-dataset"
      ]
    },
    {
      "cell_type": "markdown",
      "metadata": {
        "id": "40-ZbAhpj84a"
      },
      "source": [
        "# Importação de dados"
      ]
    },
    {
      "cell_type": "code",
      "metadata": {
        "id": "V0_YTZwVfAti"
      },
      "source": [
        "#Para que as funções do Pandas funcione, primeiro precisamos ativar essa biblioteca:\n",
        "import pandas as pd"
      ],
      "execution_count": null,
      "outputs": []
    },
    {
      "cell_type": "code",
      "metadata": {
        "id": "SFTHUY17Cyyt",
        "colab": {
          "base_uri": "https://localhost:8080/"
        },
        "outputId": "25d7cdc4-9236-4eb8-c201-b158f154e557"
      },
      "source": [
        "#Esse procedimento é exclusivo para consultas a dados no Colab\n",
        "from google.colab import drive\n",
        "drive.mount('/content/drive')"
      ],
      "execution_count": null,
      "outputs": [
        {
          "output_type": "stream",
          "text": [
            "Drive already mounted at /content/drive; to attempt to forcibly remount, call drive.mount(\"/content/drive\", force_remount=True).\n"
          ],
          "name": "stdout"
        }
      ]
    },
    {
      "cell_type": "code",
      "metadata": {
        "id": "SMEDCHLNEdZY"
      },
      "source": [
        "#Abrindo arquivos do tipo .CSV\n",
        "df_CSV = pd.read_csv('/content/drive/MyDrive/Treinamento - Tratamento de dados com python/Global_Superstore.txt', engine='python')\n",
        "#df_CSV.head()"
      ],
      "execution_count": null,
      "outputs": []
    },
    {
      "cell_type": "code",
      "metadata": {
        "id": "sveetm2AKdsG"
      },
      "source": [
        "#Abrindo arquivos do tipo .EXCEL\n",
        "df_EXCEL = pd.read_excel('/content/drive/MyDrive/Treinamento - Tratamento de dados com python/Global_Superstore.xlsx',sheet_name='Sheet1')\n",
        "#df_EXCEL.head()"
      ],
      "execution_count": null,
      "outputs": []
    },
    {
      "cell_type": "markdown",
      "metadata": {
        "id": "ByIra9nFlJH4"
      },
      "source": [
        "# Identificação dos dados\n",
        "\n",
        "\n",
        "\n",
        "\n",
        "\n",
        "\n",
        "\n",
        "\n"
      ]
    },
    {
      "cell_type": "code",
      "metadata": {
        "id": "Z8s-GO6Eeiir"
      },
      "source": [
        "#Informações sobre tipo de dado\n",
        "df_EXCEL.info()"
      ],
      "execution_count": null,
      "outputs": []
    },
    {
      "cell_type": "code",
      "metadata": {
        "id": "CtKk6yoffg-L"
      },
      "source": [
        "#Total de linhas e colunas\n",
        "df_EXCEL.shape"
      ],
      "execution_count": null,
      "outputs": []
    },
    {
      "cell_type": "code",
      "metadata": {
        "id": "zZhC47uBfjs6"
      },
      "source": [
        "# Descrição do index\n",
        "df_EXCEL.index"
      ],
      "execution_count": null,
      "outputs": []
    },
    {
      "cell_type": "code",
      "metadata": {
        "id": "9-8YoE_qNx-l"
      },
      "source": [
        "#Verificando o nomes dos campos\n",
        "df_EXCEL.columns"
      ],
      "execution_count": null,
      "outputs": []
    },
    {
      "cell_type": "markdown",
      "metadata": {
        "id": "aSh5tc51uYUU"
      },
      "source": [
        "## Campos do tipo data / dataHora\n",
        "\n",
        "Identificamos que os campos de data estão como \"object\" = str (Texto) para futuras análises é importante que estes campos estejam no formato correto. Para isso aplicamos conversões que alteram o tipo de dado:\n",
        "\n",
        "\n",
        "\n"
      ]
    },
    {
      "cell_type": "code",
      "metadata": {
        "id": "wow1sVOYt8fX"
      },
      "source": [
        "#Transformando object em datatime\n",
        "df_EXCEL['PEDIDO_DATA'] =  pd.to_datetime(df_EXCEL['PEDIDO_DATA'])\n",
        "df_EXCEL['PEDIDO_DATA_ENVIO'] =  pd.to_datetime(df_EXCEL['PEDIDO_DATA_ENVIO'])\n",
        "\n",
        "#Podemos verificar se a alteração do tipo de dado foi executada\n",
        "df_EXCEL.info()"
      ],
      "execution_count": null,
      "outputs": []
    },
    {
      "cell_type": "code",
      "metadata": {
        "id": "TmlOpSSmEgcH"
      },
      "source": [
        ""
      ],
      "execution_count": null,
      "outputs": []
    },
    {
      "cell_type": "markdown",
      "metadata": {
        "id": "P15mqkLvqWb_"
      },
      "source": [
        "# Filtros \n"
      ]
    },
    {
      "cell_type": "code",
      "metadata": {
        "id": "ksIkyt5jUSWw"
      },
      "source": [
        "#Aplicando filtro através de um campo específico: \"PRODUTO_QTD\"\n",
        "df_FILTRO = df_EXCEL[df_EXCEL['PRODUTO_QTD'] == 10]\n",
        "df_FILTRO.head(5)"
      ],
      "execution_count": null,
      "outputs": []
    },
    {
      "cell_type": "code",
      "metadata": {
        "id": "YjOLd-k1UoXu"
      },
      "source": [
        "df_FILTRO.shape"
      ],
      "execution_count": null,
      "outputs": []
    },
    {
      "cell_type": "code",
      "metadata": {
        "id": "A0-E1qmRgL8W"
      },
      "source": [
        "#Aplicando filtro através de 2 campos: PRODUTO_QTD & PRODUTO_PRECO & PRODUTO_FRETE - Se e regra for OU usar: |\n",
        "df_FILTRO1 = df_EXCEL[(df_EXCEL['PRODUTO_QTD'] >= 2) & (df_EXCEL['PRODUTO_PRECO'] >= 10000) & (df_EXCEL['PRODUTO_FRETE'] <= 900) ]\n",
        "df_FILTRO1.head(5)"
      ],
      "execution_count": null,
      "outputs": []
    },
    {
      "cell_type": "code",
      "metadata": {
        "id": "5UZFjBnjmSSB"
      },
      "source": [
        "#Aplicando filtros através de um padrão específico - Técnica 1\n",
        "df_FILTRO2 = df_EXCEL[df_EXCEL['CLIENTE_PAIS'] == 'Brazil']\n",
        "df_FILTRO2.head(5)"
      ],
      "execution_count": null,
      "outputs": []
    },
    {
      "cell_type": "code",
      "metadata": {
        "id": "KY5LCOL1oeMx"
      },
      "source": [
        "#Aplicando filtros através de um padrão específico - Técnica 2\n",
        "df_FILTRO3 = df_EXCEL[df_EXCEL['PRODUTO_PRIORIDADE'].isin(['High','Low'])]\n",
        "df_FILTRO3.head(5)"
      ],
      "execution_count": null,
      "outputs": []
    },
    {
      "cell_type": "code",
      "metadata": {
        "id": "xgbx5LrPnbcd"
      },
      "source": [
        "#Aplicando filtros através de um caractere em uma posição específica\n",
        "df_FILTRO4 = df_EXCEL[df_EXCEL['PEDIDO_ID'].str[0] == 'M']\n",
        "df_FILTRO4.head(5)"
      ],
      "execution_count": null,
      "outputs": []
    },
    {
      "cell_type": "code",
      "metadata": {
        "id": "zIl8azdGpoRM"
      },
      "source": [
        "#Aplicando filtros com regras específicas, como por exemplo: que contenha uma determinada letra no fim de uma palavra\n",
        "#https://www.debuggex.com/cheatsheet/regex/python\n",
        "\n",
        "df_FILTRO5 = df_EXCEL[df_EXCEL['CLIENTE_ESTADO'].str.contains('to$')]\n",
        "df_FILTRO5.head()"
      ],
      "execution_count": null,
      "outputs": []
    },
    {
      "cell_type": "code",
      "metadata": {
        "id": "8U3O_DJkRZT8"
      },
      "source": [
        "#Aplicando filtros através de um trecho específico - Sem determinar a posição\n",
        "df_FILTRO6 = df_EXCEL[df_EXCEL['PRODUTO_NOME'].str.contains(\"Mana\")]\n",
        "df_FILTRO6.head(5)"
      ],
      "execution_count": null,
      "outputs": []
    },
    {
      "cell_type": "code",
      "metadata": {
        "id": "3FHDQUX8g6lF"
      },
      "source": [
        "# Aplicando filtro em campos do tipo data\n",
        "df_FILTRO7 = df_EXCEL[df_EXCEL['PEDIDO_DATA'] == '01-01-2014']\n",
        "df_FILTRO7.head(5)"
      ],
      "execution_count": null,
      "outputs": []
    },
    {
      "cell_type": "code",
      "metadata": {
        "id": "flqKasxIsZ3D"
      },
      "source": [
        "#Aplicando filtros em campos nulos ou não nulos\n",
        "df_FILTRO8 = df_EXCEL[df_EXCEL['CLIENTE_COD_POSTAL'].notnull()]\n",
        "#df_FILTRO8 = df_EXCEL[df_EXCEL['CLIENTE_COD_POSTAL'].isnull()]\n",
        "df_FILTRO8.head()"
      ],
      "execution_count": null,
      "outputs": []
    },
    {
      "cell_type": "code",
      "metadata": {
        "id": "g-XWKufqU0Zr"
      },
      "source": [
        "# Aplicando filtro para facilitar a visualização\n",
        "df_EXCEL = df_EXCEL[df_EXCEL['CLIENTE_CIDADE'] == 'Santos']\n",
        "#df_EXCEL.head()"
      ],
      "execution_count": null,
      "outputs": []
    },
    {
      "cell_type": "markdown",
      "metadata": {
        "id": "pcHyKKjUvXDp"
      },
      "source": [
        "# Ordenação"
      ]
    },
    {
      "cell_type": "code",
      "metadata": {
        "id": "J00EFOXE4hWy"
      },
      "source": [
        "df_ordenado = df_EXCEL.sort_values(by = [\"PRODUTO_CATEGORIA\", \"PRODUTO_SUBCATEGORIA\"],ascending = [True, True])\n",
        "df_ordenado.head()"
      ],
      "execution_count": null,
      "outputs": []
    },
    {
      "cell_type": "code",
      "metadata": {
        "id": "0QO1y8w9OJjy"
      },
      "source": [
        "df_ordenado1 = df_EXCEL.sort_values(by = [\"PRODUTO_PRECO\"],ascending = [False])\n",
        "df_ordenado1.head()"
      ],
      "execution_count": null,
      "outputs": []
    },
    {
      "cell_type": "code",
      "metadata": {
        "id": "dTQTgJo_5f-G"
      },
      "source": [
        "#Ordenando campos de forma que os elementos vazios apareçam por último\n",
        "df_ordenado2 = df_EXCEL.sort_values(by= [\"CLIENTE_COD_POSTAL\"],ascending=False, na_position='last')\n",
        "df_ordenado2.head()"
      ],
      "execution_count": null,
      "outputs": []
    },
    {
      "cell_type": "markdown",
      "metadata": {
        "id": "8UFxhH5mxGMc"
      },
      "source": [
        "# Transformação na base"
      ]
    },
    {
      "cell_type": "code",
      "metadata": {
        "id": "-LI5cyiWt4H5"
      },
      "source": [
        "#Criando um novo campo através de cáculos matemáticos\n",
        "df_EXCEL['PRODUTO_VENDA_FINAL'] = (df_EXCEL['PRODUTO_PRECO'] * df_EXCEL['PRODUTO_QTD'])+ df_EXCEL['PRODUTO_FRETE']\n",
        "df_EXCEL.head()"
      ],
      "execution_count": null,
      "outputs": []
    },
    {
      "cell_type": "code",
      "metadata": {
        "id": "ZXKL02Fhat2E"
      },
      "source": [
        "def f (row):\n",
        "    if row['PRODUTO_VENDA_FINAL'] >= 1000: val = 10\n",
        "\n",
        "    elif row['PRODUTO_VENDA_FINAL'] >= 500 : val = 5\n",
        "\n",
        "    elif row['PRODUTO_VENDA_FINAL'] >= 100 : val = 3\n",
        "\n",
        "    else: val = 0\n",
        "\n",
        "    return val\n",
        "# Criando nova coluna atráves de operadores lógicos\n",
        "df_EXCEL['PRODUTOS_PONTOS'] = df_EXCEL.apply(f, axis=1)\n",
        "#df_EXCEL.head()"
      ],
      "execution_count": null,
      "outputs": []
    },
    {
      "cell_type": "code",
      "metadata": {
        "id": "hIh55PekjUNv"
      },
      "source": [
        "#Criando um novo campo atráves união colunas\n",
        "df_EXCEL['CHAVE'] = df_EXCEL['CLIENTE_NOME'].str.cat(df_EXCEL['CLIENTE_PAIS'], sep =\", \")\n",
        "#df_EXCEL.head()"
      ],
      "execution_count": null,
      "outputs": []
    },
    {
      "cell_type": "code",
      "metadata": {
        "id": "_kLcOAc8k5dY"
      },
      "source": [
        "#Criando novos campos através do elemtnso tipo \"data\"\n",
        "df_EXCEL['MES'] = df_EXCEL['PEDIDO_DATA'].dt.month\n",
        "df_EXCEL['DIA_DA_SEMANA'] = df_EXCEL['PEDIDO_DATA'].dt.weekday\n",
        "df_EXCEL['ANO'] = df_EXCEL['PEDIDO_DATA'].dt.year\n",
        "df_EXCEL['SEMANA'] = df_EXCEL['PEDIDO_DATA'].dt.weekday\n",
        "df_EXCEL.head(5)"
      ],
      "execution_count": null,
      "outputs": []
    },
    {
      "cell_type": "code",
      "metadata": {
        "id": "0EAPuJxQ0-e9"
      },
      "source": [
        "#Substituindo caractereres de um campo\n",
        "df_EXCEL['CLIENTE_PAIS'] = df_EXCEL['CLIENTE_PAIS'].str.replace('z', 's')\n",
        "df_EXCEL.head()"
      ],
      "execution_count": null,
      "outputs": []
    },
    {
      "cell_type": "code",
      "metadata": {
        "id": "j7mWlLc1s5nA"
      },
      "source": [
        "#Transformando um texto em 2 colunas \n",
        "df_EXCEL[['PRODUTO_NOME_NEW','PRODUTO_TIPO']] = df_EXCEL['PRODUTO_NOME'].str.split(',', n=1, expand=True)\n",
        "df_EXCEL.head()"
      ],
      "execution_count": null,
      "outputs": []
    },
    {
      "cell_type": "code",
      "metadata": {
        "id": "qWzfrMeUyjz6"
      },
      "source": [
        "# Renomeando campos\n",
        "df_EXCEL.rename(columns={'PEDIDO_MODO_ENVIO': 'PEDIDO_MD_ENV','CLIENTE_SEGMENTO': 'CLIENTE_SEG'}, inplace=True)\n",
        "df_EXCEL.head()"
      ],
      "execution_count": null,
      "outputs": []
    },
    {
      "cell_type": "code",
      "metadata": {
        "id": "tfw2R4SZwY0s"
      },
      "source": [
        "#Removendo campo\n",
        "df_EXCEL = df_EXCEL.drop(columns=['CHAVE']) \n",
        "#df_EXCEL.head()"
      ],
      "execution_count": null,
      "outputs": []
    },
    {
      "cell_type": "code",
      "metadata": {
        "id": "r9fIm2zDpTWj"
      },
      "source": [
        "#Removendo linhas duplicadas\n",
        "df_EXCEL_DUPLICADAS = df_EXCEL.drop_duplicates('CLIENTE_NOME', keep='last')\n",
        "#df = df.drop_duplicates(['col_name1','col_name2','col_name3'], keep='last')\n",
        "#df_EXCEL_DUPLICADAS.head()"
      ],
      "execution_count": null,
      "outputs": []
    },
    {
      "cell_type": "markdown",
      "metadata": {
        "id": "tX1HMWQ0Il_8"
      },
      "source": [
        "# Agrupamento\n",
        "\n"
      ]
    },
    {
      "cell_type": "code",
      "metadata": {
        "id": "OMJR5s6gSOvy"
      },
      "source": [
        "df_EXCEL_AGRUPADO = df_EXCEL.groupby(by='CLIENTE_SEGMENTO').size()\n",
        "#df_EXCEL_AGRUPADO = df_EXCEL.groupby(by='CLIENTE_SEGMENTO').sum().reset_index(name='Teste')\n",
        "#df_EXCEL_AGRUPADO = df_EXCEL.groupby(by='CLIENTE_SEGMENTO').mean().sort_values(by='PRODUTO_LUCRO')\n",
        "df_EXCEL_AGRUPADO.head()"
      ],
      "execution_count": null,
      "outputs": []
    },
    {
      "cell_type": "code",
      "metadata": {
        "id": "_xJ3W2v9SQA5"
      },
      "source": [
        "df_EXCEL_AGRUPADO1 = df_EXCEL.groupby(by='CLIENTE_SEGMENTO')['PRODUTO_QTD'].mean()\n",
        "df_EXCEL_AGRUPADO1.head()"
      ],
      "execution_count": null,
      "outputs": []
    },
    {
      "cell_type": "code",
      "metadata": {
        "id": "Z0chjZm0KzL3"
      },
      "source": [
        "df_EXCEL_AGRUPADO2 = df_EXCEL.groupby(by=['CLIENTE_SEGMENTO', 'PRODUTO_CATEGORIA']).agg({'PRODUTO_QTD':['min','max','mean','sum']})\n",
        "df_EXCEL_AGRUPADO2.head(20)"
      ],
      "execution_count": null,
      "outputs": []
    },
    {
      "cell_type": "markdown",
      "metadata": {
        "id": "3Vy5Y4-hUpWz"
      },
      "source": [
        "# Join"
      ]
    },
    {
      "cell_type": "code",
      "metadata": {
        "id": "TQBZuKjuReXc"
      },
      "source": [
        "#Criando tabelas\n",
        "tabela_1 = pd.DataFrame({\n",
        "'Nome':['João', 'Ana', 'Pedro' , 'Maria'], \n",
        "'Idade': ['21', '34', '26', '48'], \n",
        "'Carros': ['azul', 'preto', 'verde' , 'amarelo']})\n",
        "\n",
        "tabela_1.head()"
      ],
      "execution_count": null,
      "outputs": []
    },
    {
      "cell_type": "code",
      "metadata": {
        "id": "9Ucz7RxWTaa1"
      },
      "source": [
        "tabela_2 = pd.DataFrame({\n",
        "'Nome':['João', 'Marcelo', 'Thiago' , 'Maria'],  \n",
        "'Filhos': ['1', '3', '2' , '2']})\n",
        "\n",
        "tabela_2.head()"
      ],
      "execution_count": null,
      "outputs": []
    },
    {
      "cell_type": "code",
      "metadata": {
        "id": "9CEXW4bNbv5i"
      },
      "source": [
        "#pd.merge(tabela_da_esquerda, tabela_da_direita, on=[\"coluna_1\",\"coluna_2\"], how=\"left|right|inner|outer\")"
      ],
      "execution_count": null,
      "outputs": []
    },
    {
      "cell_type": "code",
      "metadata": {
        "id": "b29m0fd1Tkus"
      },
      "source": [
        "# Inner join => Retorna a interseção exata entre as tabelas\n",
        "df_InnerJoin= pd.merge(tabela_1, tabela_2, how = 'inner', on = 'Nome')\n",
        "df_InnerJoin.head()"
      ],
      "execution_count": null,
      "outputs": []
    },
    {
      "cell_type": "code",
      "metadata": {
        "id": "kr1IUwGSTkqN"
      },
      "source": [
        "# Outer join => Retornar todas as informações, de ambas tabelas\n",
        "df_OuterJoin= pd.merge(tabela_1, tabela_2, how = 'outer')\n",
        "df_OuterJoin.head()"
      ],
      "execution_count": null,
      "outputs": []
    },
    {
      "cell_type": "code",
      "metadata": {
        "id": "SMTn3JW7TknM"
      },
      "source": [
        "#‘Left’ => Supondo que na sua tarefa você deva manter os dados da tabela_1 e acrescentar dados da tabela 2 através de um campo comum: \"Nome\" \n",
        "# Ou seja, a tabela 1 será complementada com a tabela 2 somente quando o campos \"Nomes\" for exatamente igual linha por linha.\n",
        "df_LeftJoin= pd.merge(tabela_1, tabela_2, how = 'left', on = 'Nome')\n",
        "df_LeftJoin.head()"
      ],
      "execution_count": null,
      "outputs": []
    },
    {
      "cell_type": "code",
      "metadata": {
        "id": "32JqiOObTkfs"
      },
      "source": [
        "#‘Right’ => Nesse exemplo tabela 2 será complementada com a tabela 1 somente quando o campos \"Nomes\" for exatamente igual linha por linha.\n",
        "df_LeftRight= pd.merge(tabela_1, tabela_2, how = 'right', on = 'Nome')\n",
        "df_LeftRight.head()"
      ],
      "execution_count": null,
      "outputs": []
    },
    {
      "cell_type": "code",
      "metadata": {
        "id": "YUdgcFWcTkV7"
      },
      "source": [
        "#‘Full Join’ => Retorna a resultante da união de tabelas\n",
        "df_Concat =pd.concat([tabela_1, tabela_2], ignore_index= True)\n",
        "df_Concat.head(8)"
      ],
      "execution_count": null,
      "outputs": []
    },
    {
      "cell_type": "markdown",
      "metadata": {
        "id": "iIU8g6gwKC2G"
      },
      "source": [
        "# Exportação de dados\n",
        "\n"
      ]
    },
    {
      "cell_type": "code",
      "metadata": {
        "id": "olYisEymfSXD"
      },
      "source": [
        "df_Concat.to_csv('/content/drive/MyDrive/Treinamento - Tratamento de dados com python/df_Concat.csv', sep=',', encoding='utf-8', index=False)"
      ],
      "execution_count": null,
      "outputs": []
    },
    {
      "cell_type": "code",
      "metadata": {
        "id": "dm_psWH5jUuw"
      },
      "source": [
        "df_Concat.to_excel('/content/drive/MyDrive/Treinamento - Tratamento de dados com python/df_Concat.xlsx', index=False)"
      ],
      "execution_count": null,
      "outputs": []
    }
  ]
}